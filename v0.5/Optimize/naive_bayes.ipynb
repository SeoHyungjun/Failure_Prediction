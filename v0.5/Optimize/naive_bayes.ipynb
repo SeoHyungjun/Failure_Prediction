{
 "cells": [
  {
   "cell_type": "code",
   "execution_count": 3,
   "metadata": {},
   "outputs": [
    {
     "name": "stdout",
     "output_type": "stream",
     "text": [
      "Number of mislabeled points out of a total 75 points : 4\n"
     ]
    }
   ],
   "source": [
    "from sklearn.datasets import load_iris\n",
    "from sklearn.model_selection import train_test_split\n",
    "from sklearn.naive_bayes import GaussianNB\n",
    "X, y = load_iris(return_X_y=True)\n",
    "X_train, X_test, y_train, y_test = train_test_split(X, y, test_size=0.5, random_state=0)\n",
    "gnb = GaussianNB()\n",
    "y_pred = gnb.fit(X_train, y_train).predict(X_test)\n",
    "print(\"Number of mislabeled points out of a total %d points : %d\" % (X_test.shape[0], (y_test != y_pred).sum()))"
   ]
  },
  {
   "cell_type": "code",
   "execution_count": 5,
   "metadata": {},
   "outputs": [
    {
     "name": "stdout",
     "output_type": "stream",
     "text": [
      "          0   1         2         3         4         5         6    7   \\\n",
      "68760  17624   1  0.419355  0.777778  1.000000  0.414634  0.789474  1.0   \n",
      "8567      93  -1  0.387097  0.703704  1.000000  0.341463  0.894737  1.0   \n",
      "2001     934   1  0.419355  1.000000  1.000000  0.536585  0.052632  1.0   \n",
      "23497    252  -1  0.387097  0.629630  1.000000  0.463415  0.157895  1.0   \n",
      "12249    133  -1  0.387097  1.000000 -0.515152  0.560976 -0.368421  1.0   \n",
      "...      ...  ..       ...       ...       ...       ...       ...  ...   \n",
      "80263  20499   1  0.387097  0.259259  1.000000  0.390244  0.789474  1.0   \n",
      "59922  15414   1  0.419355  0.111111  1.000000  0.292683  0.789474  1.0   \n",
      "32237    348  -1  0.483871  0.703704 -0.696970  0.487805 -0.157895 -1.0   \n",
      "18856    203  -1  0.290323  1.000000 -1.000000  0.585366 -0.368421  1.0   \n",
      "4041    1444   1  0.322581  1.000000  1.000000  0.536585  0.052632  1.0   \n",
      "\n",
      "             8         9         10   11        12   13  \n",
      "68760  1.000000 -0.485714 -0.182796  1.0 -1.000000 -1.0  \n",
      "8567   1.000000 -0.714286 -0.118280  1.0 -1.000000 -1.0  \n",
      "2001  -1.000000 -0.485714 -0.225806  1.0 -0.998110 -1.0  \n",
      "23497  1.000000 -0.600000 -0.032258  1.0 -1.000000 -1.0  \n",
      "12249  0.818182 -0.085714 -0.182796  1.0  0.458412 -1.0  \n",
      "...         ...       ...       ...  ...       ...  ...  \n",
      "80263  1.000000 -0.485714  0.010753  1.0 -1.000000 -1.0  \n",
      "59922  1.000000 -0.428571 -0.247312  1.0 -0.999527 -1.0  \n",
      "32237  0.939394 -0.600000 -0.096774  1.0  0.632798 -1.0  \n",
      "18856  0.414141 -0.542857 -0.204301  1.0  0.935255 -1.0  \n",
      "4041   1.000000 -0.371429 -0.096774  1.0 -0.998110 -1.0  \n",
      "\n",
      "[80344 rows x 14 columns]\n",
      "             2         3         4         5         6    7         8   \\\n",
      "68760  0.419355  0.777778  1.000000  0.414634  0.789474  1.0  1.000000   \n",
      "8567   0.387097  0.703704  1.000000  0.341463  0.894737  1.0  1.000000   \n",
      "2001   0.419355  1.000000  1.000000  0.536585  0.052632  1.0 -1.000000   \n",
      "23497  0.387097  0.629630  1.000000  0.463415  0.157895  1.0  1.000000   \n",
      "12249  0.387097  1.000000 -0.515152  0.560976 -0.368421  1.0  0.818182   \n",
      "...         ...       ...       ...       ...       ...  ...       ...   \n",
      "80263  0.387097  0.259259  1.000000  0.390244  0.789474  1.0  1.000000   \n",
      "59922  0.419355  0.111111  1.000000  0.292683  0.789474  1.0  1.000000   \n",
      "32237  0.483871  0.703704 -0.696970  0.487805 -0.157895 -1.0  0.939394   \n",
      "18856  0.290323  1.000000 -1.000000  0.585366 -0.368421  1.0  0.414141   \n",
      "4041   0.322581  1.000000  1.000000  0.536585  0.052632  1.0  1.000000   \n",
      "\n",
      "             9         10   11        12   13  \n",
      "68760 -0.485714 -0.182796  1.0 -1.000000 -1.0  \n",
      "8567  -0.714286 -0.118280  1.0 -1.000000 -1.0  \n",
      "2001  -0.485714 -0.225806  1.0 -0.998110 -1.0  \n",
      "23497 -0.600000 -0.032258  1.0 -1.000000 -1.0  \n",
      "12249 -0.085714 -0.182796  1.0  0.458412 -1.0  \n",
      "...         ...       ...  ...       ...  ...  \n",
      "80263 -0.485714  0.010753  1.0 -1.000000 -1.0  \n",
      "59922 -0.428571 -0.247312  1.0 -0.999527 -1.0  \n",
      "32237 -0.600000 -0.096774  1.0  0.632798 -1.0  \n",
      "18856 -0.542857 -0.204301  1.0  0.935255 -1.0  \n",
      "4041  -0.371429 -0.096774  1.0 -0.998110 -1.0  \n",
      "\n",
      "[80344 rows x 12 columns]\n",
      "       1\n",
      "68760  1\n",
      "8567  -1\n",
      "2001   1\n",
      "23497 -1\n",
      "12249 -1\n",
      "...   ..\n",
      "80263  1\n",
      "59922  1\n",
      "32237 -1\n",
      "18856 -1\n",
      "4041   1\n",
      "\n",
      "[80344 rows x 1 columns]\n",
      "80344\n",
      "80344\n",
      "load end\n"
     ]
    }
   ],
   "source": [
    "import sys\n",
    "from Optimization_function import PSO\n",
    "\n",
    "import optunity  \n",
    "import Nested_CV\n",
    "\n",
    "from sklearn.datasets import load_iris\n",
    "from sklearn.model_selection import train_test_split\n",
    "\n",
    "from sklearn.datasets import load_digits\n",
    "import pandas as pd\n",
    "from sklearn.utils import shuffle\n",
    "from sklearn.preprocessing import normalize, MinMaxScaler\n",
    "from sklearn.metrics import f1_score, recall_score, confusion_matrix, accuracy_score, roc_curve\n",
    "#import random\n",
    "\n",
    "import numpy as np\n",
    "import seaborn as sns\n",
    "import matplotlib.pylab as plt\n",
    "\n",
    "import optunity\n",
    "import optunity.metrics\n",
    "\n",
    "import os\n",
    "sys.path.append(os.path.dirname(os.path.abspath(os.path.dirname('__file__'))))\n",
    "\n",
    "from ML_model import SVM, RANDOMFOREST\n",
    "\n",
    "from sklearn.feature_selection import RFE\n",
    "import sklearn.ensemble\n",
    "import sklearn.svm\n",
    "\n",
    "failure_data = pd.read_csv(\"../data/h_failure/failure_96.csv\", header = None, index_col=False)\n",
    "normal_data = pd.read_csv(\"../data/random_4/normal_4_data.csv\", header = None, index_col=False)\n",
    "normal_data = (shuffle(normal_data)).iloc[:len(failure_data)]\n",
    "\n",
    "sum_data = pd.concat([failure_data, normal_data])\n",
    "sum_data = shuffle(sum_data)\n",
    "print(sum_data)\n",
    "\n",
    "data = sum_data.iloc[:, 2:14]\n",
    "labels = sum_data.iloc[:, 1:2]\n",
    "print(data)\n",
    "print(labels)\n",
    "\n",
    "data = data.values.tolist()\n",
    "\n",
    "labels = labels[1].tolist()\n",
    "print(len(data))\n",
    "print(len(labels))\n",
    "print('load end')"
   ]
  },
  {
   "cell_type": "code",
   "execution_count": 7,
   "metadata": {},
   "outputs": [
    {
     "name": "stdout",
     "output_type": "stream",
     "text": [
      "0.7314547445982276\n"
     ]
    }
   ],
   "source": [
    "from sklearn.metrics import f1_score, recall_score, confusion_matrix, accuracy_score, roc_curve\n",
    "X, y = load_iris(return_X_y=True)\n",
    "X_train, X_test, y_train, y_test = train_test_split(data, labels, test_size=0.5, random_state=0)\n",
    "gnb = GaussianNB(var_smoothing = 10**-9)\n",
    "y_pred = gnb.fit(X_train, y_train).predict(X_test)\n",
    "#print(\"Number of mislabeled points out of a total %d points : %d\" % (X_test.shape[0], (y_test != y_pred).sum()))\n",
    "print( accuracy_score(y_pred, y_test))"
   ]
  },
  {
   "cell_type": "code",
   "execution_count": null,
   "metadata": {},
   "outputs": [],
   "source": [
    "from sklearn.naive_bayes import MultinomialNB\n",
    "mnb = MultinomialNB()\n",
    "y_pred = mnb.fit(X_train, y_train).predict(X_test)\n",
    "print( accuracy_score(y_pred, y_test))"
   ]
  },
  {
   "cell_type": "code",
   "execution_count": null,
   "metadata": {},
   "outputs": [],
   "source": [
    "from sklearn.linear_model import LogisticRegression\n",
    "lg = LogisticRegression()\n",
    "y_pred = lg.fit(X_train, y_train).predict(X_test)\n",
    "print( accuracy_score(y_pred, y_test))"
   ]
  },
  {
   "cell_type": "code",
   "execution_count": null,
   "metadata": {},
   "outputs": [],
   "source": [
    "from sklearn.linear_model import LogisticRegression\n",
    "lg = LogisticRegression(C=1000, random_state = 0)\n",
    "y_pred = lg.fit(X_train, y_train).predict(X_test)\n",
    "print( accuracy_score(y_pred, y_test))"
   ]
  },
  {
   "cell_type": "code",
   "execution_count": null,
   "metadata": {},
   "outputs": [],
   "source": []
  }
 ],
 "metadata": {
  "kernelspec": {
   "display_name": "Python 3",
   "language": "python",
   "name": "python3"
  },
  "language_info": {
   "codemirror_mode": {
    "name": "ipython",
    "version": 3
   },
   "file_extension": ".py",
   "mimetype": "text/x-python",
   "name": "python",
   "nbconvert_exporter": "python",
   "pygments_lexer": "ipython3",
   "version": "3.6.9"
  }
 },
 "nbformat": 4,
 "nbformat_minor": 4
}
